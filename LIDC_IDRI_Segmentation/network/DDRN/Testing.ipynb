{
 "cells": [
  {
   "cell_type": "code",
   "execution_count": 1,
   "metadata": {},
   "outputs": [
    {
     "name": "stdout",
     "output_type": "stream",
     "text": [
      "Output shape: torch.Size([8, 1, 512, 512])\n"
     ]
    }
   ],
   "source": [
    "import torch\n",
    "import torch.nn as nn\n",
    "import torch.nn.functional as F\n",
    "\n",
    "from ddrn_2 import ConvDeconvNetwork\n",
    "\n",
    "# Define the expected input size\n",
    "batch_size = 8\n",
    "channels = 1\n",
    "height = 512\n",
    "width = 512\n",
    "\n",
    "# Create dummy data\n",
    "dummy_input = torch.randn(batch_size, channels, height, width)\n",
    "\n",
    "# Instantiate the model\n",
    "model = ConvDeconvNetwork()\n",
    "\n",
    "# Forward pass with dummy data\n",
    "output = model(dummy_input)\n",
    "\n",
    "# Print the output shape\n",
    "print(\"Output shape:\", output.shape)"
   ]
  }
 ],
 "metadata": {
  "kernelspec": {
   "display_name": ".venv",
   "language": "python",
   "name": "python3"
  },
  "language_info": {
   "codemirror_mode": {
    "name": "ipython",
    "version": 3
   },
   "file_extension": ".py",
   "mimetype": "text/x-python",
   "name": "python",
   "nbconvert_exporter": "python",
   "pygments_lexer": "ipython3",
   "version": "3.8.10"
  }
 },
 "nbformat": 4,
 "nbformat_minor": 2
}
